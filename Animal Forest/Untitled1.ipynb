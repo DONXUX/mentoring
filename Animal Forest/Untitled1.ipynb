{
 "cells": [
  {
   "cell_type": "code",
   "execution_count": 6,
   "metadata": {},
   "outputs": [],
   "source": [
    "from gtts import gTTS\n",
    "from pydub import AudioSegment\n",
    "import random, os"
   ]
  },
  {
   "cell_type": "code",
   "execution_count": 7,
   "metadata": {},
   "outputs": [],
   "source": [
    "os.makedirs('samples', exist_ok=True)\n",
    "os.makedirs('result', exist_ok=True)"
   ]
  },
  {
   "cell_type": "code",
   "execution_count": 8,
   "metadata": {},
   "outputs": [],
   "source": [
    "string = '안녕하세요'\n",
    "lang = 'ko'\n",
    "random_factor = 0.35\n",
    "normal_sample_rate = 44100"
   ]
  },
  {
   "cell_type": "code",
   "execution_count": 10,
   "metadata": {},
   "outputs": [
    {
     "name": "stdout",
     "output_type": "stream",
     "text": [
      "안 - octaves: 2.17, fr: 96352\n",
      "녕 - octaves: 2.10, fr: 92520\n",
      "하 - octaves: 2.19, fr: 98033\n",
      "세 - octaves: 2.07, fr: 90544\n",
      "요 - octaves: 2.30, fr: 104819\n"
     ]
    },
    {
     "ename": "AttributeError",
     "evalue": "'AudioSegment' object has no attribute 'save'",
     "output_type": "error",
     "traceback": [
      "\u001b[0;31m---------------------------------------------------------------------------\u001b[0m",
      "\u001b[0;31mAttributeError\u001b[0m                            Traceback (most recent call last)",
      "\u001b[0;32m<ipython-input-10-d65467816a01>\u001b[0m in \u001b[0;36m<module>\u001b[0;34m\u001b[0m\n\u001b[1;32m     30\u001b[0m \u001b[0;34m\u001b[0m\u001b[0m\n\u001b[1;32m     31\u001b[0m \u001b[0mresult_sound\u001b[0m\u001b[0;34m\u001b[0m\u001b[0;34m\u001b[0m\u001b[0m\n\u001b[0;32m---> 32\u001b[0;31m \u001b[0mresult_sound\u001b[0m\u001b[0;34m.\u001b[0m\u001b[0msave\u001b[0m\u001b[0;34m(\u001b[0m\u001b[0;34m'result/%s.mp3'\u001b[0m \u001b[0;34m%\u001b[0m \u001b[0mresult\u001b[0m\u001b[0;34m)\u001b[0m\u001b[0;34m\u001b[0m\u001b[0;34m\u001b[0m\u001b[0m\n\u001b[0m",
      "\u001b[0;31mAttributeError\u001b[0m: 'AudioSegment' object has no attribute 'save'"
     ]
    }
   ],
   "source": [
    "result_sound = None\n",
    "\n",
    "for i, letter in enumerate(string):\n",
    "    # 사운드가 없을 때\n",
    "    if letter == ' ':\n",
    "        new_sound = letter_sound._spawn(b'\\x00' * (normal_sample_rate // 3), overrides={'frame_rate': normal_sample_rate})\n",
    "    # 사운드가 있을 때\n",
    "    else:\n",
    "        # 캐시에 저장된 사운드가 아니면 TTS를 실행하여 소리를 저장한다.\n",
    "        if not os.path.isfile('samples/%s.mp3' % letter):\n",
    "            tts = gTTS(letter, lang=lang)\n",
    "            tts.save('samples/%s.mp3' % letter)\n",
    "        \n",
    "        # 사운드 불러오기\n",
    "        letter_sound = AudioSegment.from_mp3('samples/%s.mp3' % letter)\n",
    "        \n",
    "        # 샘플의 앞뒤 약간의 공백을 자른다.\n",
    "        raw = letter_sound.raw_data[5000:-5000]\n",
    "        \n",
    "        # 피치를 랜덤한 값을 통해 글자마다 약간씩 다르게 조정되게한다.\n",
    "        octaves = 2.0 + random.random() * random_factor\n",
    "        frame_rate = int(letter_sound.frame_rate * (1.9 ** octaves))\n",
    "        print('%s - octaves: %.2f, fr: %.d' % (letter, octaves, frame_rate))\n",
    "        \n",
    "        new_sound = letter_sound._spawn(raw, overrides={'frame_rate': frame_rate})\n",
    "    \n",
    "    # new sound 프레임 레이트를 normal_sample_rate로 변환\n",
    "    new_sound = new_sound.set_frame_rate(normal_sample_rate)\n",
    "    result_sound = new_sound if result_sound is None else result_sound + new_sound\n",
    "\n",
    "result_sound"
   ]
  }
 ],
 "metadata": {
  "kernelspec": {
   "display_name": "Python 3",
   "language": "python",
   "name": "python3"
  },
  "language_info": {
   "codemirror_mode": {
    "name": "ipython",
    "version": 3
   },
   "file_extension": ".py",
   "mimetype": "text/x-python",
   "name": "python",
   "nbconvert_exporter": "python",
   "pygments_lexer": "ipython3",
   "version": "3.8.3"
  }
 },
 "nbformat": 4,
 "nbformat_minor": 4
}
