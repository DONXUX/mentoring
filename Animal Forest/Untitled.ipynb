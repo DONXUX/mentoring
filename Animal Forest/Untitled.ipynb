{
 "cells": [
  {
   "cell_type": "code",
   "execution_count": 2,
   "metadata": {},
   "outputs": [],
   "source": [
    "from gtts import gTTS\n",
    "from pydub import AudioSegment\n",
    "import random, os"
   ]
  },
  {
   "cell_type": "markdown",
   "metadata": {},
   "source": [
    "## 캐시와 결과 저장을 위한 디렉터리 만들기"
   ]
  },
  {
   "cell_type": "code",
   "execution_count": 3,
   "metadata": {},
   "outputs": [],
   "source": [
    "os.makedirs('samples', exist_ok=True)\n",
    "os.makedirs('result', exist_ok=True)"
   ]
  },
  {
   "cell_type": "markdown",
   "metadata": {},
   "source": [
    "## 입력 정의"
   ]
  },
  {
   "cell_type": "code",
   "execution_count": 14,
   "metadata": {},
   "outputs": [],
   "source": [
    "string = '안녕하세요'\n",
    "lang = 'ko'\n",
    "random_factor = 0.35\n",
    "normal_frame_rate = 44100"
   ]
  },
  {
   "cell_type": "markdown",
   "metadata": {},
   "source": [
    "## 오디오 처리"
   ]
  },
  {
   "cell_type": "code",
   "execution_count": 17,
   "metadata": {},
   "outputs": [
    {
     "name": "stdout",
     "output_type": "stream",
     "text": [
      "안 - octaves: 2.34, fr: 121615\n",
      "녕 - octaves: 2.25, fr: 114537\n",
      "하 - octaves: 2.29, fr: 117431\n",
      "세 - octaves: 2.02, fr: 97364\n",
      "요 - octaves: 2.19, fr: 109164\n"
     ]
    },
    {
     "data": {
      "text/html": [
       "\n",
       "                    <audio controls>\n",
       "                        <source src=\"data:audio/mpeg;base64,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\" type=\"audio/mpeg\"/>\n",
       "                        Your browser does not support the audio element.\n",
       "                    </audio>\n",
       "                  "
      ],
      "text/plain": [
       "<pydub.audio_segment.AudioSegment at 0x7f83b3cda8b0>"
      ]
     },
     "execution_count": 17,
     "metadata": {},
     "output_type": "execute_result"
    }
   ],
   "source": [
    "result_sound = None\n",
    "\n",
    "for i, letter in enumerate(string):\n",
    "    # 사운드가 없을 때 \n",
    "    if letter == ' ':\n",
    "        new_sound = letter_sound._spawn(b'\\x00' * (normal_frame_rate // 3), overrides={'frame_rate': normal_frame_rate})\n",
    "    # 사운드가 있을 때\n",
    "    else:\n",
    "        # 캐시에 저장된 사운드가 아니면 TTS를 실행하여 소리를 저장한다.\n",
    "        if not os.path.isfile('samples/%s.mp3' % letter):\n",
    "            tts = gTTS(letter, lang=lang)\n",
    "            tts.save('samples/%s.mp3' % letter)\n",
    "        \n",
    "        # 사운드 불러오기\n",
    "        letter_sound = AudioSegment.from_mp3('samples/%s.mp3' % letter)\n",
    "        \n",
    "        # 샘플의 앞뒤 약간의 공백을 자른다.\n",
    "        raw = letter_sound.raw_data[5000:-5000]\n",
    "        \n",
    "        # 피치를 랜덤한 값을 통해 글자마다 약간씩 다르게 조정되게한다.\n",
    "        octaves = 2.0 + random.random() * random_factor\n",
    "        frame_rate = int(letter_sound.frame_rate * (2.0 ** octaves))\n",
    "        print('%s - octaves: %.2f, fr: %.d' % (letter, octaves, frame_rate))\n",
    "        \n",
    "        new_sound = letter_sound._spawn(raw, overrides={'frame_rate': frame_rate})\n",
    "        \n",
    "    # new sound 프레임 레이트를 normal_frame_rate로 변환\n",
    "    new_sound = new_sound.set_frame_rate(normal_frame_rate)\n",
    "    result_sound = new_sound if result_sound is None else result_sound + new_sound\n",
    "    \n",
    "result_sound"
   ]
  },
  {
   "cell_type": "code",
   "execution_count": null,
   "metadata": {},
   "outputs": [],
   "source": [
    "\n"
   ]
  },
  {
   "cell_type": "code",
   "execution_count": null,
   "metadata": {},
   "outputs": [],
   "source": []
  },
  {
   "cell_type": "code",
   "execution_count": null,
   "metadata": {},
   "outputs": [],
   "source": [
    "result_sound.export('result/%s.mp3' % string, format='mp3')"
   ]
  }
 ],
 "metadata": {
  "kernelspec": {
   "display_name": "Python 3",
   "language": "python",
   "name": "python3"
  },
  "language_info": {
   "codemirror_mode": {
    "name": "ipython",
    "version": 3
   },
   "file_extension": ".py",
   "mimetype": "text/x-python",
   "name": "python",
   "nbconvert_exporter": "python",
   "pygments_lexer": "ipython3",
   "version": "3.8.3"
  }
 },
 "nbformat": 4,
 "nbformat_minor": 4
}
