{
 "cells": [
  {
   "cell_type": "code",
   "execution_count": 1,
   "metadata": {},
   "outputs": [],
   "source": [
    "from gtts import gTTS\n",
    "from pydub import AudioSegment\n",
    "import random, os"
   ]
  },
  {
   "cell_type": "markdown",
   "metadata": {},
   "source": [
    "## 캐시와 결과 저장을 위한 디렉터리 만들기"
   ]
  },
  {
   "cell_type": "code",
   "execution_count": 35,
   "metadata": {},
   "outputs": [],
   "source": [
    "os.makedirs('samples', exist_ok=True)\n",
    "os.makedirs('result', exist_ok=True)"
   ]
  },
  {
   "cell_type": "markdown",
   "metadata": {},
   "source": [
    "## 입력 정의"
   ]
  },
  {
   "cell_type": "code",
   "execution_count": 32,
   "metadata": {},
   "outputs": [],
   "source": [
    "string = '안녕하세요'\n",
    "lang = 'ko'\n",
    "random_factor = 0.35\n",
    "normal_frame_rate = 44100"
   ]
  },
  {
   "cell_type": "markdown",
   "metadata": {},
   "source": [
    "## 오디오 처리"
   ]
  },
  {
   "cell_type": "code",
   "execution_count": 33,
   "metadata": {},
   "outputs": [
    {
     "name": "stdout",
     "output_type": "stream",
     "text": [
      "안 - octaves: 2.17, fr: 96513\n",
      "녕 - octaves: 2.05, fr: 89634\n",
      "하 - octaves: 2.22, fr: 99615\n",
      "세 - octaves: 2.27, fr: 103039\n",
      "요 - octaves: 2.11, fr: 92725\n"
     ]
    },
    {
     "data": {
      "text/html": [
       "\n",
       "                    <audio controls>\n",
       "                        <source src=\"data:audio/mpeg;base64,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\" type=\"audio/mpeg\"/>\n",
       "                        Your browser does not support the audio element.\n",
       "                    </audio>\n",
       "                  "
      ],
      "text/plain": [
       "<pydub.audio_segment.AudioSegment at 0x7fddae4828b0>"
      ]
     },
     "execution_count": 33,
     "metadata": {},
     "output_type": "execute_result"
    }
   ],
   "source": [
    "result_sound = None\n",
    "\n",
    "for i, letter in enumerate(string):\n",
    "    # 사운드가 없을 때 \n",
    "    if letter == ' ':\n",
    "        new_sound = letter_sound._spawn(b'\\x00' * (normal_frame_rate // 3), overrides={'frame_rate': normal_frame_rate})\n",
    "    # 사운드가 있을 때\n",
    "    else:\n",
    "        # 캐시에 저장된 사운드가 아니면 TTS를 실행하여 소리를 저장한다.\n",
    "        if not os.path.isfile('samples/%s.mp3' % letter):\n",
    "            tts = gTTS(letter, lang=lang)\n",
    "            tts.save('samples/%s.mp3' % letter)\n",
    "        \n",
    "        # 사운드 불러오기\n",
    "        letter_sound = AudioSegment.from_mp3('samples/%s.mp3' % letter)\n",
    "        \n",
    "        # 샘플의 앞뒤 약간의 공백을 자른다.\n",
    "        raw = letter_sound.raw_data[5000:-5000]\n",
    "        \n",
    "        # 피치를 랜덤한 값을 통해 글자마다 약간씩 다르게 조정되게한다.\n",
    "        octaves = 2.0 + random.random() * random_factor\n",
    "        frame_rate = int(letter_sound.frame_rate * (1.0 ** octaves))\n",
    "        print('%s - octaves: %.2f, fr: %.d' % (letter, octaves, frame_rate))\n",
    "        \n",
    "        new_sound = letter_sound._spawn(raw, overrides={'frame_rate': frame_rate})\n",
    "        \n",
    "    # new sound 프레임 레이트를 normal_frame_rate로 변환\n",
    "    new_sound = new_sound.set_frame_rate(normal_frame_rate)\n",
    "    result_sound = new_sound if result_sound is None else result_sound + new_sound\n",
    "    \n",
    "result_sound"
   ]
  },
  {
   "cell_type": "code",
   "execution_count": null,
   "metadata": {},
   "outputs": [],
   "source": [
    "result_sound.export('result/%s.mp3' % string, format='mp3')"
   ]
  }
 ],
 "metadata": {
  "kernelspec": {
   "display_name": "Python 3",
   "language": "python",
   "name": "python3"
  },
  "language_info": {
   "codemirror_mode": {
    "name": "ipython",
    "version": 3
   },
   "file_extension": ".py",
   "mimetype": "text/x-python",
   "name": "python",
   "nbconvert_exporter": "python",
   "pygments_lexer": "ipython3",
   "version": "3.8.3"
  }
 },
 "nbformat": 4,
 "nbformat_minor": 4
}
